{
 "cells": [
  {
   "cell_type": "markdown",
   "metadata": {},
   "source": [
    "# **Workshop Demo**: Introduction to Machine Learning in Finance\n",
    "\n",
    "- **Objectives**\n"
   ]
  },
  {
   "cell_type": "markdown",
   "metadata": {},
   "source": [
    "# 1. Price Forecasting"
   ]
  },
  {
   "cell_type": "code",
   "execution_count": null,
   "metadata": {},
   "outputs": [],
   "source": [
    "# Hassan TODO\n",
    "print(\"hello world\")"
   ]
  },
  {
   "cell_type": "markdown",
   "metadata": {},
   "source": [
    "# 2. Risk Forecasting"
   ]
  },
  {
   "cell_type": "code",
   "execution_count": null,
   "metadata": {},
   "outputs": [],
   "source": [
    "# Nico TODO\n",
    "print(\"hello\")"
   ]
  },
  {
   "cell_type": "markdown",
   "metadata": {},
   "source": [
    "# 3. Deep Learning in Option Pricing"
   ]
  },
  {
   "cell_type": "markdown",
   "metadata": {},
   "source": [
    "**What is Deep Learning**\n",
    "\n",
    "- [Deep Learning](https://www.ibm.com/topics/deep-learning) is a subset of machine learning that uses multilayered neural networks to simulate the complex decision-making power of the human brain.\n",
    "\n",
    "- Main difference between deep learning and machine learning is the structure of the underlying neural network architecture. \"Nondeep\" traditional ML models use simple neural networks with one or two computational layers. Deep learning models use neural networks with one or two compuetational layers. Deep learning models use three or more layers (typically hundreds or thousands of layers) to train the models.\n",
    "\n",
    "- Consists of multiple layers of interconnected notes, each building on previous to refine and optimize the prediction -> forward propogation. The `IN` and `OUT` layers of a deep neural network are called **visible** layers\n",
    "\n",
    "- Another process, backward propagation, is used to calculate errors in predictions and then adjust the weights and biases of between the node layers accordingly. The common approach to do this is via `gradient descent`.\n",
    "\n",
    "- Common deep learning neural networks: \n",
    "    - **CNNs** (convolution neural networks): computer vision and image classification applications.\n",
    "    - **RNNs** (recurrent neural networks): natural language and speech recognition."
   ]
  },
  {
   "cell_type": "markdown",
   "metadata": {},
   "source": [
    "**What is Option Pricing**\n",
    "- Formal definition of an [option](https://corporatefinanceinstitute.com/resources/derivatives/option-pricing-models/) states that it is a type of contract between two parties that provides one party the right, but **not** the oblidation, to buy or sell the underlying asset at a predetermined price before or at expirations day.\n",
    "\n",
    "    - Call option = buying\n",
    "    - Put option = selling\n",
    "\n",
    "- Buying or selling an option comes with a price called the option's premium. Buyer of an option pay the premium and sellers receive the premium\n",
    "\n",
    "- Factors determining the value of an option:\n",
    "\n",
    "    - Current stock price\n",
    "    - Intrinsic value\n",
    "    - Time to expiration\n",
    "    - Volatility\n",
    "    - Interest rates\n",
    "    - Cash dividends paid\n",
    "\n",
    "(ie. price of a stock rises -> likely price of call option will rise and the price of a put option will fall, vice versa)\n",
    "\n",
    "- Example pricing models: \n",
    "\n",
    "    - Binomial\n",
    "    - Trinomial\n",
    "    - Black-Scholes\n",
    "    \n"
   ]
  },
  {
   "cell_type": "code",
   "execution_count": 2,
   "metadata": {},
   "outputs": [],
   "source": [
    "# generate random Gaussian values\n",
    "from random import seed\n",
    "from random import gauss\n",
    "# seed random number generator\n",
    "seed(1)\n",
    "\n",
    "\n",
    "# generting Stock Price(S) vector\n",
    "list1 =[]\n",
    "for i in range(10000):\n",
    "    k = gauss(250,50.11)\n",
    "    list1.append(round(k,2))\n",
    "    \n",
    "\n",
    "# generating Strike Price(K) vector\n",
    "list2 =[]\n",
    "for i in range(10000):\n",
    "    k = 0\n",
    "    k = abs(gauss(322.6,65.9))\n",
    "    while round(k,2) >= list1[i]:\n",
    "        k = abs(gauss(322.6,65.9))\n",
    "    list2.append(round(k,2))\n",
    "    \n",
    "\n",
    "# generate maturity time vector\n",
    "list3 =[]\n",
    "for i in range(10000):\n",
    "    k = gauss(541.4,111)\n",
    "    list3.append(round(int(round(k,2))/365,4))\n",
    "    \n",
    "\n",
    "# generate dividend gain vector    \n",
    "list4 =[]\n",
    "for i in range(10000):\n",
    "    k = gauss(1.5,0.31)\n",
    "    list4.append(round(round(k,2)/100,6))\n",
    "    \n",
    "    \n",
    "# generate risk free interst rate vector\n",
    "list5 =[]\n",
    "for i in range(10000):\n",
    "    k = gauss(2.05,0.2)\n",
    "    list5.append(round(round(k,2)/100,6))\n",
    "\n",
    "\n",
    "# generate volatality vector\n",
    "list6 =[]\n",
    "for i in range(10000):\n",
    "    k = gauss(30,10)\n",
    "    list6.append(round(round(k,2)/100,4))"
   ]
  },
  {
   "cell_type": "code",
   "execution_count": 3,
   "metadata": {},
   "outputs": [],
   "source": [
    "def listOfTuples(l1, l2,l3,l4,l5,l6): \n",
    "    return list(map(lambda x, y,z,w,i,o:(x,y,z,w,i,o), l1, l2,l3,l4,l5,l6)) \n",
    "\n",
    "p = listOfTuples(list1,list2,list3,list4,list5,list6)"
   ]
  },
  {
   "cell_type": "code",
   "execution_count": null,
   "metadata": {},
   "outputs": [],
   "source": [
    "import pandas as pd\n",
    "df = pd.DataFrame(p, columns=[\"S\",\"K\",\"T\",\"q\",\"r\",\"sigma\"])\n",
    "df.head(50)"
   ]
  },
  {
   "cell_type": "code",
   "execution_count": null,
   "metadata": {},
   "outputs": [],
   "source": [
    "import numpy as np\n",
    "import scipy.stats as si\n",
    "import sympy as sy\n",
    "from sympy.stats import Normal, cdf\n",
    "from sympy import init_printing\n",
    "init_printing()\n",
    "def black_scholes_call_div(S, K, T, r, q, sigma):\n",
    "    \n",
    "    #S: spot price (Price of underlying asset)\n",
    "    #K: strike price\n",
    "    #T: time to maturity\n",
    "    #r: interest rate\n",
    "    #q: rate of continuous dividend paying asset \n",
    "    #sigma: volatility\n",
    "    \n",
    "    d1 = (np.log(S / K) + (r - q + 0.5 * sigma ** 2) * T) / (sigma * np.sqrt(T))\n",
    "    d2 = (np.log(S / K) + (r - q - 0.5 * sigma ** 2) * T) / (sigma * np.sqrt(T))\n",
    "    \n",
    "   \n",
    "    call =  (S * np.exp(-q * T) * si.norm.cdf(d1, 0.0, 1.0) - K * np.exp(-r * T) * si.norm.cdf(d2, 0.0, 1.0))\n",
    "    \n",
    "    return round(call,2)"
   ]
  }
 ],
 "metadata": {
  "kernelspec": {
   "display_name": "Python 3",
   "language": "python",
   "name": "python3"
  },
  "language_info": {
   "codemirror_mode": {
    "name": "ipython",
    "version": 3
   },
   "file_extension": ".py",
   "mimetype": "text/x-python",
   "name": "python",
   "nbconvert_exporter": "python",
   "pygments_lexer": "ipython3",
   "version": "3.11.9"
  }
 },
 "nbformat": 4,
 "nbformat_minor": 2
}
