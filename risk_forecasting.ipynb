{
 "cells": [
  {
   "cell_type": "markdown",
   "metadata": {},
   "source": [
    "# Introduction\n",
    "\n",
    "This Jupyter notebook provides an introduction to Machine Learning (ML) in finance, with a specific focus on risk forecasting, coviering some fields within risk forecasting:\n",
    "\n",
    "1. A simple Logistical Regression model.\n",
    "2. Application of the model in credit risk forecasting.\n"
   ]
  },
  {
   "cell_type": "markdown",
   "metadata": {},
   "source": [
    "# Example of a Logistical Regression Model"
   ]
  },
  {
   "cell_type": "code",
   "execution_count": null,
   "metadata": {},
   "outputs": [],
   "source": [
    "# Import necessary libraries\n",
    "import numpy as np\n",
    "import pandas as pd\n",
    "from sklearn.model_selection import train_test_split\n",
    "from sklearn.linear_model import LogisticRegression\n",
    "from sklearn.metrics import accuracy_score, classification_report, confusion_matrix, roc_auc_score, roc_curve\n",
    "import matplotlib.pyplot as plt\n",
    "import seaborn as sns\n",
    "\n",
    "\n",
    "# Set a random seed for reproducibility\n",
    "np.random.seed(42)"
   ]
  },
  {
   "cell_type": "code",
   "execution_count": null,
   "metadata": {},
   "outputs": [],
   "source": [
    "# Step 1: Data Preprocessing - Generate Synthetic Data\n",
    "# ----------------------------------------------------\n",
    "# Creating a synthetic dataset with finance-related features\n",
    "\n",
    "n_samples = 500\n",
    "data = pd.DataFrame({\n",
    "    'income': np.random.normal(50000, 15000, n_samples),           # Average income around $50,000\n",
    "    'age': np.random.randint(18, 65, n_samples),                   # Customer age between 18 and 65\n",
    "    'account_balance': np.random.normal(10000, 5000, n_samples)    # Average account balance around $10,000\n",
    "})\n",
    "\n",
    "# Define target: customers with higher income, moderate age, and higher balances are more likely to subscribe\n",
    "data['subscribed'] = ((data['income'] > 60000) & (data['age'] < 50) & (data['account_balance'] > 12000)).astype(int)\n",
    "\n",
    "print(\"Sample Data:\")\n",
    "print(data.head())"
   ]
  },
  {
   "cell_type": "code",
   "execution_count": null,
   "metadata": {},
   "outputs": [],
   "source": [
    "# Step 2: Define Features, Assign Target and Split Data into Training and Testing Sets\n",
    "# ----------------------------------\n",
    "# Our features are 'income', 'age', and 'account_balance'.\n",
    "# Our target variable is 'subscribed', which indicates whether the customer subscribed to the product (1) or not (0).\n",
    "\n",
    "x = data[['income', 'age', 'account_balance']]\n",
    "y = data['subscribed']\n",
    "\n",
    "# Splitting the data with 80% for training and 20% for testing\n",
    "x_train, x_test, y_train, y_test = train_test_split(x, y, test_size=0.2, random_state=42)"
   ]
  },
  {
   "cell_type": "code",
   "execution_count": null,
   "metadata": {},
   "outputs": [],
   "source": [
    "# Step 3: Initialize and Train the Logistic Regression Model\n",
    "# ----------------------------------------------------------\n",
    "# Creating the logistic regression model using sklearn\n",
    "\n",
    "model = LogisticRegression()\n",
    "\n",
    "# Training the model on the training data\n",
    "model.fit(x_train, y_train)"
   ]
  },
  {
   "cell_type": "code",
   "execution_count": null,
   "metadata": {},
   "outputs": [],
   "source": [
    "# Step 4: Make Predictions on the Test Set\n",
    "# ----------------------------------------\n",
    "# Predict the class labels for the test set\n",
    "\n",
    "y_pred = model.predict(x_test)\n",
    "\n",
    "# Predict the probabilities for the positive class (subscribed = 1)\n",
    "y_pred_prob = model.predict_proba(x_test)[:, 1]\n"
   ]
  },
  {
   "cell_type": "code",
   "execution_count": null,
   "metadata": {},
   "outputs": [],
   "source": [
    "# Step 5: Evaluate the Model\n",
    "# --------------------------\n",
    "# Calculate and print the accuracy of the model\n",
    "\n",
    "accuracy = accuracy_score(y_test, y_pred)\n",
    "print(f\"Accuracy: {accuracy:.2f}\")\n",
    "\n",
    "# Generate a classification report to show precision, recall, and F1-score\n",
    "print(\"\\nClassification Report:\")\n",
    "print(classification_report(y_test, y_pred))"
   ]
  },
  {
   "cell_type": "code",
   "execution_count": null,
   "metadata": {},
   "outputs": [],
   "source": [
    "# Step 6: Confusion Matrix Visualization\n",
    "# --------------------------------------\n",
    "# Create a confusion matrix to show true positives, true negatives, false positives, and false negatives\n",
    "\n",
    "conf_matrix = confusion_matrix(y_test, y_pred)\n",
    "sns.heatmap(conf_matrix, annot=True, fmt=\"d\", cmap=\"Blues\", cbar=False)\n",
    "plt.title(\"Confusion Matrix\")\n",
    "plt.xlabel(\"Predicted\")\n",
    "plt.ylabel(\"Actual\")\n",
    "plt.show()"
   ]
  },
  {
   "cell_type": "code",
   "execution_count": null,
   "metadata": {},
   "outputs": [],
   "source": [
    "# Step 7: ROC Curve and AUC\n",
    "# -------------------------\n",
    "# Calculate the AUC-ROC score\n",
    "\n",
    "roc_auc = roc_auc_score(y_test, y_pred_prob)\n",
    "\n",
    "# Generate the false positive rate and true positive rate for the ROC curve\n",
    "fpr, tpr, _ = roc_curve(y_test, y_pred_prob)\n",
    "\n",
    "# Plot the ROC curve\n",
    "plt.plot(fpr, tpr, label=f\"AUC = {roc_auc:.2f}\")\n",
    "plt.plot([0, 1], [0, 1], 'k--')                    # Diagonal line for reference\n",
    "plt.xlabel(\"False Positive Rate\")\n",
    "plt.ylabel(\"True Positive Rate\")\n",
    "plt.title(\"ROC Curve\")\n",
    "plt.legend(loc=\"lower right\")\n",
    "plt.show()"
   ]
  },
  {
   "cell_type": "markdown",
   "metadata": {},
   "source": [
    "# Logistical Regression\n",
    "\n",
    "Here is an example of how to use a logistical regression for credit risk"
   ]
  },
  {
   "cell_type": "code",
   "execution_count": null,
   "metadata": {},
   "outputs": [],
   "source": [
    "# Import necessary libraries\n",
    "import numpy as np\n",
    "import pandas as pd\n",
    "from sklearn.model_selection import train_test_split, cross_val_score\n",
    "from sklearn.linear_model import LogisticRegression\n",
    "from sklearn.metrics import accuracy_score, classification_report, confusion_matrix, roc_auc_score, roc_curve\n",
    "from sklearn.preprocessing import StandardScaler\n",
    "from imblearn.over_sampling import SMOTE\n",
    "import matplotlib.pyplot as plt\n",
    "import seaborn as sns\n",
    "\n",
    "# Set a random seed for reproducibility\n",
    "np.random.seed(42)"
   ]
  },
  {
   "cell_type": "code",
   "execution_count": null,
   "metadata": {},
   "outputs": [],
   "source": [
    "# Step 1: Data Preprocessing - Generate Synthetic Data\n",
    "# -----------------------------------------------------\n",
    "# Creating a synthetic dataset with features relevant to credit risk forecasting\n",
    "n_samples = 1000\n",
    "credit_data = pd.DataFrame({\n",
    "    'credit_score': np.random.normal(700, 50, n_samples),       # Average credit score around 700\n",
    "    'income': np.random.normal(50000, 15000, n_samples),       # Average income around $50,000\n",
    "    'debt_ratio': np.random.uniform(0, 1, n_samples),          # Debt-to-income ratio between 0 and 1\n",
    "    'loan_amount': np.random.normal(20000, 5000, n_samples)    # Average loan amount around $20,000\n",
    "})\n",
    "\n",
    "# Define target variable 'default': high debt ratio and low credit score increase default risk\n",
    "credit_data['default'] = ((credit_data['debt_ratio'] > 0.4) & (credit_data['credit_score'] < 650)).astype(int)\n",
    "\n",
    "# Display sample data for reference\n",
    "print(\"Sample Credit Data:\")\n",
    "print(credit_data.head())"
   ]
  },
  {
   "cell_type": "code",
   "execution_count": null,
   "metadata": {},
   "outputs": [],
   "source": [
    "# Step 2: Define Features and Target\n",
    "# ----------------------------------\n",
    "# Define target variable (y) and feature variables (X)\n",
    "X = credit_data[['credit_score', 'income', 'debt_ratio', 'loan_amount']]\n",
    "y = credit_data['default']"
   ]
  },
  {
   "cell_type": "code",
   "execution_count": null,
   "metadata": {},
   "outputs": [],
   "source": [
    "# Step 3: Split the Data into Training and Testing Sets\n",
    "# -----------------------------------------------------\n",
    "# Splitting the data with 80% for training and 20% for testing\n",
    "X_train, X_test, y_train, y_test = train_test_split(X, y, test_size=0.2, random_state=42)"
   ]
  },
  {
   "cell_type": "code",
   "execution_count": null,
   "metadata": {},
   "outputs": [],
   "source": [
    "# Step 4: Feature Scaling\n",
    "# -----------------------\n",
    "# Standardize features by removing the mean and scaling to unit variance\n",
    "scaler = StandardScaler()\n",
    "X_train = scaler.fit_transform(X_train)  # Fit and transform training data\n",
    "X_test = scaler.transform(X_test)        # Transform test data using the same scaler"
   ]
  },
  {
   "cell_type": "code",
   "execution_count": null,
   "metadata": {},
   "outputs": [],
   "source": [
    "# Step 5: Handle Class Imbalance Using SMOTE\n",
    "# ------------------------------------------\n",
    "# Synthetic Minority Over-sampling Technique (SMOTE) to balance classes\n",
    "# In cases where 'default' is underrepresented, SMOTE creates synthetic samples of the minority class\n",
    "smote = SMOTE(random_state=42)\n",
    "X_train, y_train = smote.fit_resample(X_train, y_train)"
   ]
  },
  {
   "cell_type": "code",
   "execution_count": null,
   "metadata": {},
   "outputs": [],
   "source": [
    "# Step 6: Initialize and Train the Logistic Regression Model\n",
    "# ----------------------------------------------------------\n",
    "# Initialize the logistic regression model\n",
    "model = LogisticRegression()\n",
    "\n",
    "# Train the model on the training data\n",
    "model.fit(X_train, y_train)"
   ]
  },
  {
   "cell_type": "code",
   "execution_count": null,
   "metadata": {},
   "outputs": [],
   "source": [
    "# Step 7: Make Predictions on the Test Set\n",
    "# ----------------------------------------\n",
    "# Predict the class labels for the test set\n",
    "y_pred = model.predict(X_test)\n",
    "\n",
    "# Predict the probabilities for the positive class (default = 1)\n",
    "y_pred_prob = model.predict_proba(X_test)[:, 1]"
   ]
  },
  {
   "cell_type": "code",
   "execution_count": null,
   "metadata": {},
   "outputs": [],
   "source": [
    "# Step 8: Evaluate the Model\n",
    "# --------------------------\n",
    "# Calculate and print the accuracy of the model\n",
    "accuracy = accuracy_score(y_test, y_pred)\n",
    "print(f\"Accuracy: {accuracy:.2f}\")\n",
    "\n",
    "# Generate a classification report to show precision, recall, and F1-score\n",
    "print(\"\\nClassification Report:\")\n",
    "print(classification_report(y_test, y_pred))"
   ]
  },
  {
   "cell_type": "code",
   "execution_count": null,
   "metadata": {},
   "outputs": [],
   "source": [
    "# Step 9: Confusion Matrix Visualization\n",
    "# --------------------------------------\n",
    "# Create a confusion matrix to show true positives, true negatives, false positives, and false negatives\n",
    "conf_matrix = confusion_matrix(y_test, y_pred)\n",
    "sns.heatmap(conf_matrix, annot=True, fmt=\"d\", cmap=\"Blues\", cbar=False)\n",
    "plt.title(\"Confusion Matrix\")\n",
    "plt.xlabel(\"Predicted\")\n",
    "plt.ylabel(\"Actual\")\n",
    "plt.show()"
   ]
  },
  {
   "cell_type": "code",
   "execution_count": null,
   "metadata": {},
   "outputs": [],
   "source": [
    "# Step 10: ROC Curve and AUC\n",
    "# --------------------------\n",
    "# Calculate the AUC-ROC score\n",
    "roc_auc = roc_auc_score(y_test, y_pred_prob)\n",
    "\n",
    "# Generate the false positive rate and true positive rate for the ROC curve\n",
    "fpr, tpr, _ = roc_curve(y_test, y_pred_prob)\n",
    "\n",
    "# Plot the ROC curve\n",
    "plt.plot(fpr, tpr, label=f\"AUC = {roc_auc:.2f}\")\n",
    "plt.plot([0, 1], [0, 1], 'k--')  # Diagonal line for reference\n",
    "plt.xlabel(\"False Positive Rate\")\n",
    "plt.ylabel(\"True Positive Rate\")\n",
    "plt.title(\"ROC Curve\")\n",
    "plt.legend(loc=\"lower right\")\n",
    "plt.show()"
   ]
  },
  {
   "cell_type": "code",
   "execution_count": null,
   "metadata": {},
   "outputs": [],
   "source": [
    "# Step 11: Interpret Model Coefficients\n",
    "# -------------------------------------\n",
    "# Coefficients provide insights into the impact of each feature on the probability of default\n",
    "coefficients = pd.DataFrame({\"Feature\": X.columns, \"Coefficient\": model.coef_[0]})\n",
    "print(\"\\nLogistic Regression Coefficients:\")\n",
    "print(coefficients)"
   ]
  }
 ],
 "metadata": {
  "kernelspec": {
   "display_name": "Python 3",
   "language": "python",
   "name": "python3"
  },
  "language_info": {
   "codemirror_mode": {
    "name": "ipython",
    "version": 3
   },
   "file_extension": ".py",
   "mimetype": "text/x-python",
   "name": "python",
   "nbconvert_exporter": "python",
   "pygments_lexer": "ipython3",
   "version": "3.10.12"
  }
 },
 "nbformat": 4,
 "nbformat_minor": 2
}
